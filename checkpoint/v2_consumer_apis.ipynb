{
  "nbformat": 4,
  "nbformat_minor": 0,
  "metadata": {
    "colab": {
      "name": "v2-consumer-apis.ipynb",
      "provenance": [],
      "collapsed_sections": [],
      "authorship_tag": "ABX9TyNyOPOEX01KmgGmfgu/SgPR",
      "include_colab_link": true
    },
    "kernelspec": {
      "name": "python3",
      "display_name": "Python 3"
    },
    "language_info": {
      "name": "python"
    }
  },
  "cells": [
    {
      "cell_type": "markdown",
      "metadata": {
        "id": "view-in-github",
        "colab_type": "text"
      },
      "source": [
        "<a href=\"https://colab.research.google.com/github/eduardomatoss/fiap-cybersecurity/blob/main/checkpoint/v2_consumer_apis.ipynb\" target=\"_parent\"><img src=\"https://colab.research.google.com/assets/colab-badge.svg\" alt=\"Open In Colab\"/></a>"
      ]
    },
    {
      "cell_type": "code",
      "execution_count": 1,
      "metadata": {
        "id": "Yew1e9-eM_SB"
      },
      "outputs": [],
      "source": [
        "!pip install -q pyngrok"
      ]
    },
    {
      "cell_type": "code",
      "source": [
        "!pip install -q streamlit"
      ],
      "metadata": {
        "id": "mSm7UIEfOIac"
      },
      "execution_count": 2,
      "outputs": []
    },
    {
      "cell_type": "code",
      "source": [
        "!pip install -q streamlit-ace"
      ],
      "metadata": {
        "id": "KJiXSja-OREC"
      },
      "execution_count": 3,
      "outputs": []
    },
    {
      "cell_type": "code",
      "source": [
        "!pip install fuzzywuzzy[speedup]"
      ],
      "metadata": {
        "colab": {
          "base_uri": "https://localhost:8080/"
        },
        "id": "oRMp-qdkqPwq",
        "outputId": "57f9babc-c5c5-48dd-c6ae-8f34d7bfa397"
      },
      "execution_count": 4,
      "outputs": [
        {
          "output_type": "stream",
          "name": "stdout",
          "text": [
            "Requirement already satisfied: fuzzywuzzy[speedup] in /usr/local/lib/python3.7/dist-packages (0.18.0)\n",
            "Requirement already satisfied: python-levenshtein>=0.12 in /usr/local/lib/python3.7/dist-packages (from fuzzywuzzy[speedup]) (0.12.2)\n",
            "Requirement already satisfied: setuptools in /usr/local/lib/python3.7/dist-packages (from python-levenshtein>=0.12->fuzzywuzzy[speedup]) (57.4.0)\n"
          ]
        }
      ]
    },
    {
      "cell_type": "code",
      "source": [
        "!streamlit run app.py &>/dev/null&"
      ],
      "metadata": {
        "id": "62LMvrSbORqY"
      },
      "execution_count": 5,
      "outputs": []
    },
    {
      "cell_type": "code",
      "source": [
        "from pyngrok import ngrok"
      ],
      "metadata": {
        "id": "YR0jQYdOOVmm"
      },
      "execution_count": 6,
      "outputs": []
    },
    {
      "cell_type": "code",
      "source": [
        "%%writefile app.py\n",
        "\n",
        "import streamlit as st\n",
        "import re\n",
        "from requests import get\n",
        "from fuzzywuzzy import process\n",
        "\n",
        "apis_datas = {\n",
        "    \"ind\": \"https://eduardomatoss.github.io/ind.json\",\n",
        "    \"fra\": \"https://henricobela.github.io/fra.json\",\n",
        "    \"ago\": \"https://the-icaro.github.io/ago.json\",\n",
        "    \"ita\": \"https://isabellitankian.github.io/ita.json\",\n",
        "    \"aus\": \"https://cesarnorena.github.io/aus.json\",\n",
        "    \"mng\": \"https://emgabrielly.github.io/mng.json\",\n",
        "    \"grc\": \"https://dalcol99.github.io/grc.json\",\n",
        "    \"arg\": \"https://kndhvh.github.io/arg.json\",\n",
        "    \"irl\": \"https://victorswory.github.io/irl.json\",\n",
        "    \"npl\": \"https://rodrigofer89.github.io/npl.json\",\n",
        "    \"bel\": \"https://rafael-pereira-silva.github.io/bel.json\",\n",
        "}\n",
        "\n",
        "def get_data_passaport(name_data):\n",
        "  data = get(apis_datas[name_data])\n",
        "  return data.json()[name_data]\n",
        "\n",
        "def get_data_interpol():\n",
        "  names_interpol = get(\"https://cspinheiro.github.io/interpol.json\").json()[\"interpol\"]\n",
        "  list_names = [name.get('interpol') for name in names_interpol]\n",
        "  return list_names\n",
        "\n",
        "def main():\n",
        "    html_temp = \"\"\" \n",
        "    <div style =\"background-color:black;padding:13px\"> \n",
        "    <h1 style =\"color:white;text-align:center;\">Embaixada IND</h1> \n",
        "    </div> \n",
        "    \"\"\"\n",
        "    st.markdown(html_temp, unsafe_allow_html = True) \n",
        "\n",
        "    number_passaport = st.text_input('Passaport')\n",
        "\n",
        "    name_passaport = st.text_input('Name')\n",
        "\n",
        "    def _validate_passaport(number_passaport):\n",
        "      apply_regex = re.split('([0-9]+)', number_passaport)\n",
        "      passart_numbers = get_data_passaport(apply_regex[0].lower())\n",
        "      for apply_regex[1] in passart_numbers:\n",
        "        return True\n",
        "      return False\n",
        "\n",
        "    def _validate_name(name_passaport):\n",
        "      names_interpol = get_data_interpol()\n",
        "      list_fuzzy = process.extract(name_passaport, names_interpol)\n",
        "      result = []\n",
        "      for sublist in list_fuzzy: \n",
        "          if sublist[1] > 90:\n",
        "            result.append(sublist)\n",
        "      if len(result) == 0:\n",
        "          return True\n",
        "      return False\n",
        "\n",
        "    def validate_data(number_passaport, name_passaport):\n",
        "      if st.button(\"Consult\"):\n",
        "        is_valid_passarport = _validate_passaport(number_passaport)\n",
        "        is_valid_name = _validate_name(name_passaport)\n",
        "        if is_valid_passarport and is_valid_name:\n",
        "          st.success('Passport without problems')\n",
        "        else:\n",
        "          st.warning('Passport with problems')\n",
        "\n",
        "    validate_data(number_passaport, name_passaport)\n",
        "\n",
        "if __name__=='__main__': \n",
        "    main()\n"
      ],
      "metadata": {
        "colab": {
          "base_uri": "https://localhost:8080/"
        },
        "id": "j2k6KIR-OWME",
        "outputId": "930fc86d-c08c-4d73-ea31-0578e3dcbe27"
      },
      "execution_count": 7,
      "outputs": [
        {
          "output_type": "stream",
          "name": "stdout",
          "text": [
            "Overwriting app.py\n"
          ]
        }
      ]
    },
    {
      "cell_type": "code",
      "source": [
        "!streamlit run app.py & npx localtunnel --port 8501"
      ],
      "metadata": {
        "id": "6NmE2cj_OaDj",
        "colab": {
          "base_uri": "https://localhost:8080/"
        },
        "outputId": "7d78a050-a788-4aa5-8be5-b76954193c97"
      },
      "execution_count": 8,
      "outputs": [
        {
          "output_type": "stream",
          "name": "stdout",
          "text": [
            "2022-04-24 20:59:53.730 INFO    numexpr.utils: NumExpr defaulting to 2 threads.\n",
            "\u001b[K\u001b[?25hnpx: installed 22 in 5.201s\n",
            "your url is: https://wicked-fish-57.loca.lt\n",
            "\u001b[0m\n",
            "\u001b[34m\u001b[1m  You can now view your Streamlit app in your browser.\u001b[0m\n",
            "\u001b[0m\n",
            "\u001b[34m  Network URL: \u001b[0m\u001b[1mhttp://172.28.0.2:8502\u001b[0m\n",
            "\u001b[34m  External URL: \u001b[0m\u001b[1mhttp://104.199.117.108:8502\u001b[0m\n",
            "\u001b[0m\n",
            "\u001b[34m  Stopping...\u001b[0m\n",
            "^C\n"
          ]
        }
      ]
    }
  ]
}