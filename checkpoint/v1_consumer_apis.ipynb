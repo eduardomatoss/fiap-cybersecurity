{
  "nbformat": 4,
  "nbformat_minor": 0,
  "metadata": {
    "colab": {
      "name": "v1-consumer-apis.ipynb",
      "provenance": [],
      "collapsed_sections": [],
      "authorship_tag": "ABX9TyMRD0FeEi7fSH2I8mjRJ1z3",
      "include_colab_link": true
    },
    "kernelspec": {
      "name": "python3",
      "display_name": "Python 3"
    },
    "language_info": {
      "name": "python"
    }
  },
  "cells": [
    {
      "cell_type": "markdown",
      "metadata": {
        "id": "view-in-github",
        "colab_type": "text"
      },
      "source": [
        "<a href=\"https://colab.research.google.com/github/eduardomatoss/fiap-cybersecurity/blob/main/checkpoint/v1_consumer_apis.ipynb\" target=\"_parent\"><img src=\"https://colab.research.google.com/assets/colab-badge.svg\" alt=\"Open In Colab\"/></a>"
      ]
    },
    {
      "cell_type": "code",
      "execution_count": 18,
      "metadata": {
        "id": "Yew1e9-eM_SB"
      },
      "outputs": [],
      "source": [
        "!pip install -q pyngrok"
      ]
    },
    {
      "cell_type": "code",
      "source": [
        "!pip install -q streamlit"
      ],
      "metadata": {
        "id": "mSm7UIEfOIac"
      },
      "execution_count": 19,
      "outputs": []
    },
    {
      "cell_type": "code",
      "source": [
        "!pip install -q streamlit-ace"
      ],
      "metadata": {
        "id": "KJiXSja-OREC"
      },
      "execution_count": 20,
      "outputs": []
    },
    {
      "cell_type": "code",
      "source": [
        "!streamlit run app.py &>/dev/null&"
      ],
      "metadata": {
        "id": "62LMvrSbORqY"
      },
      "execution_count": 21,
      "outputs": []
    },
    {
      "cell_type": "code",
      "source": [
        "from pyngrok import ngrok"
      ],
      "metadata": {
        "id": "YR0jQYdOOVmm"
      },
      "execution_count": 22,
      "outputs": []
    },
    {
      "cell_type": "code",
      "source": [
        "from requests import get\n",
        "\n",
        "apis_datas = {\n",
        "    \"ind\": \"https://eduardomatoss.github.io/ind.json\",\n",
        "    \"fra\": \"https://henricobela.github.io/fra.json\",\n",
        "    \"ago\": \"https://the-icaro.github.io/ago.json\",\n",
        "    \"ita\": \"https://isabellitankian.github.io/ita.json\",\n",
        "    \"aus\": \"https://cesarnorena.github.io/aus.json\",\n",
        "    \"mng\": \"https://emgabrielly.github.io/mng.json\",\n",
        "    \"grc\": \"https://dalcol99.github.io/grc.json\",\n",
        "    \"arg\": \"https://kndhvh.github.io/arg.json\",\n",
        "    \"irl\": \"https://victorswory.github.io/irl.json\",\n",
        "    \"npl\": \"https://rodrigofer89.github.io/npl.json\",\n",
        "    \"bel\": \"https://rafael-pereira-silva.github.io/bel.json\",\n",
        "}\n",
        "\n",
        "def get_data_passaport(name_data: str):\n",
        "  data = get(apis_datas[name_data])\n",
        "  return data.json()[name_data]\n",
        "\n",
        "def get_data_interporl():\n",
        "  data = get(\"https://cspinheiro.github.io/interpol.json\")\n",
        "  return data.json()[\"interpol\"]\n",
        "\n"
      ],
      "metadata": {
        "id": "kJm_PEk7Q8_x"
      },
      "execution_count": 23,
      "outputs": []
    },
    {
      "cell_type": "code",
      "source": [
        "%%writefile app.py\n",
        "\n",
        "import streamlit as st\n",
        "import re\n",
        "\n",
        "def main():  \n",
        "    html_temp = \"\"\" \n",
        "    \"\"\"\n",
        "    st.markdown(html_temp, unsafe_allow_html = True) \n",
        "\n",
        "    titulo = st.text_input('Adding text')\n",
        "      \n",
        "    def getMatchRegex(field):\n",
        "      match = re.search('', field.lower())\n",
        "      if st.button(\"Consultar\"): \n",
        "        if match:\n",
        "          st.success('Adding return sucess')\n",
        "        else:\n",
        "          st.success('Adding return fail')\n",
        "\n",
        "    getMatchRegex(titulo)\n",
        "\n",
        "if __name__=='__main__': \n",
        "    main()"
      ],
      "metadata": {
        "colab": {
          "base_uri": "https://localhost:8080/"
        },
        "id": "j2k6KIR-OWME",
        "outputId": "356d043d-c3db-4718-e72e-cd06d67a23c1"
      },
      "execution_count": 24,
      "outputs": [
        {
          "output_type": "stream",
          "name": "stdout",
          "text": [
            "Overwriting app.py\n"
          ]
        }
      ]
    },
    {
      "cell_type": "code",
      "source": [
        "!streamlit run app.py & npx localtunnel --port 8501"
      ],
      "metadata": {
        "id": "6NmE2cj_OaDj"
      },
      "execution_count": null,
      "outputs": []
    }
  ]
}