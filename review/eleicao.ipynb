{
  "nbformat": 4,
  "nbformat_minor": 0,
  "metadata": {
    "colab": {
      "name": "eleicao.ipynb",
      "provenance": [],
      "collapsed_sections": []
    },
    "kernelspec": {
      "name": "python3",
      "display_name": "Python 3"
    },
    "language_info": {
      "name": "python"
    }
  },
  "cells": [
    {
      "cell_type": "code",
      "execution_count": 18,
      "metadata": {
        "id": "5UhLskdf2hCQ"
      },
      "outputs": [],
      "source": [
        "!pip install -q pyngrok"
      ]
    },
    {
      "cell_type": "code",
      "source": [
        "!pip install -q streamlit\n",
        "!pip install -q streamlit_ace"
      ],
      "metadata": {
        "id": "AnEWkya62n4n"
      },
      "execution_count": 19,
      "outputs": []
    },
    {
      "cell_type": "code",
      "source": [
        "!streamlit run app.py &>/dev/null&"
      ],
      "metadata": {
        "id": "7-1frRXs2sfV"
      },
      "execution_count": 20,
      "outputs": []
    },
    {
      "cell_type": "code",
      "source": [
        "!pip install fuzzywuzzy[speedup]"
      ],
      "metadata": {
        "colab": {
          "base_uri": "https://localhost:8080/"
        },
        "id": "uFP73n1l2yYg",
        "outputId": "9294bf26-3198-4cab-a5ba-6461ad5931f1"
      },
      "execution_count": 21,
      "outputs": [
        {
          "output_type": "stream",
          "name": "stdout",
          "text": [
            "Looking in indexes: https://pypi.org/simple, https://us-python.pkg.dev/colab-wheels/public/simple/\n",
            "Requirement already satisfied: fuzzywuzzy[speedup] in /usr/local/lib/python3.7/dist-packages (0.18.0)\n",
            "Requirement already satisfied: python-levenshtein>=0.12 in /usr/local/lib/python3.7/dist-packages (from fuzzywuzzy[speedup]) (0.12.2)\n",
            "Requirement already satisfied: setuptools in /usr/local/lib/python3.7/dist-packages (from python-levenshtein>=0.12->fuzzywuzzy[speedup]) (57.4.0)\n"
          ]
        }
      ]
    },
    {
      "cell_type": "code",
      "source": [
        "%%writefile app.py\n",
        "\n",
        "import streamlit as st\n",
        "import json\n",
        "from requests import get\n",
        "from fuzzywuzzy import process\n",
        "from pyngrok import ngrok\n",
        "\n",
        "def main():\n",
        "\n",
        "  html_temp = \"\"\"\n",
        "    <div style=\"background-color:blue;padding:13px\">\n",
        "    <h1>Linha do tempo!</h1>\n",
        "    </div>\n",
        "  \"\"\"\n",
        "\n",
        "  st.markdown(html_temp, unsafe_allow_html=True)\n",
        "  item = st.text_input(\"Item\")\n",
        "\n",
        "  def verificar_nome(item):\n",
        "    response = get('https://eduardomatoss.github.io/eleicao.json')\n",
        "    data_eleicao = response.json()['eleicao']\n",
        "    list_fuzzy = process.extract(item, data_eleicao)\n",
        "    result = []\n",
        "    for sublist in list_fuzzy:\n",
        "      if sublist[1] > 80:\n",
        "        result.append(sublist)\n",
        "    if len(result) == 0:\n",
        "      return st.success('Atencao as fake news')\n",
        "    return st.error('E uma fake news')\n",
        "\n",
        "  if st.button(\"verificar\"):\n",
        "    verificar_nome(item)\n",
        "\n",
        "if __name__=='__main__':\n",
        "  main()"
      ],
      "metadata": {
        "colab": {
          "base_uri": "https://localhost:8080/"
        },
        "id": "kTKvcH0O22-s",
        "outputId": "4d8b4ae6-fb64-4624-aea2-a562cefadf5b"
      },
      "execution_count": 22,
      "outputs": [
        {
          "output_type": "stream",
          "name": "stdout",
          "text": [
            "Overwriting app.py\n"
          ]
        }
      ]
    },
    {
      "cell_type": "code",
      "source": [
        "!streamlit run app.py & npx localtunnel --port 8501"
      ],
      "metadata": {
        "colab": {
          "base_uri": "https://localhost:8080/"
        },
        "id": "lJmc6XSz6UCg",
        "outputId": "7d383f2b-bc79-4001-9629-467268fc2149"
      },
      "execution_count": 23,
      "outputs": [
        {
          "output_type": "stream",
          "name": "stdout",
          "text": [
            "2022-08-03 23:36:28.160 INFO    numexpr.utils: NumExpr defaulting to 2 threads.\n",
            "\u001b[K\u001b[?25hnpx: installed 22 in 3.681s\n",
            "your url is: https://loose-yaks-post-35-221-34-142.loca.lt\n",
            "\u001b[0m\n",
            "\u001b[34m\u001b[1m  You can now view your Streamlit app in your browser.\u001b[0m\n",
            "\u001b[0m\n",
            "\u001b[34m  Network URL: \u001b[0m\u001b[1mhttp://172.28.0.2:8502\u001b[0m\n",
            "\u001b[34m  External URL: \u001b[0m\u001b[1mhttp://35.221.34.142:8502\u001b[0m\n",
            "\u001b[0m\n",
            "\u001b[34m  Stopping...\u001b[0m\n",
            "^C\n"
          ]
        }
      ]
    }
  ]
}