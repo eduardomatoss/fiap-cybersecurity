{
  "nbformat": 4,
  "nbformat_minor": 0,
  "metadata": {
    "colab": {
      "name": "v3-improving-form.ipynb",
      "provenance": [],
      "collapsed_sections": [],
      "include_colab_link": true
    },
    "kernelspec": {
      "name": "python3",
      "display_name": "Python 3"
    },
    "language_info": {
      "name": "python"
    }
  },
  "cells": [
    {
      "cell_type": "markdown",
      "metadata": {
        "id": "view-in-github",
        "colab_type": "text"
      },
      "source": [
        "<a href=\"https://colab.research.google.com/github/eduardomatoss/fiap-cybersecurity/blob/main/notebooks/v3_improving_form.ipynb\" target=\"_parent\"><img src=\"https://colab.research.google.com/assets/colab-badge.svg\" alt=\"Open In Colab\"/></a>"
      ]
    },
    {
      "cell_type": "code",
      "execution_count": 17,
      "metadata": {
        "id": "Yew1e9-eM_SB"
      },
      "outputs": [],
      "source": [
        "!pip install -q pyngrok"
      ]
    },
    {
      "cell_type": "code",
      "source": [
        "!pip install -q streamlit"
      ],
      "metadata": {
        "id": "mSm7UIEfOIac"
      },
      "execution_count": 18,
      "outputs": []
    },
    {
      "cell_type": "code",
      "source": [
        "!pip install -q streamlit-ace"
      ],
      "metadata": {
        "id": "KJiXSja-OREC"
      },
      "execution_count": 19,
      "outputs": []
    },
    {
      "cell_type": "code",
      "source": [
        "!pip install fuzzywuzzy[speedup]"
      ],
      "metadata": {
        "id": "oRMp-qdkqPwq"
      },
      "execution_count": null,
      "outputs": []
    },
    {
      "cell_type": "code",
      "source": [
        "!streamlit run app.py &>/dev/null&"
      ],
      "metadata": {
        "id": "62LMvrSbORqY"
      },
      "execution_count": 21,
      "outputs": []
    },
    {
      "cell_type": "code",
      "source": [
        "from pyngrok import ngrok"
      ],
      "metadata": {
        "id": "YR0jQYdOOVmm"
      },
      "execution_count": 22,
      "outputs": []
    },
    {
      "cell_type": "code",
      "source": [
        "%%writefile app.py\n",
        "\n",
        "import streamlit as st\n",
        "import re\n",
        "from requests import get\n",
        "from fuzzywuzzy import process\n",
        "\n",
        "apis_datas = {\n",
        "    \"ind\": \"https://eduardomatoss.github.io/ind.json\",\n",
        "    \"fra\": \"https://henricobela.github.io/fra.json\",\n",
        "    \"ago\": \"https://the-icaro.github.io/ago.json\",\n",
        "    \"ita\": \"https://isabellitankian.github.io/ita.json\",\n",
        "    \"aus\": \"https://cesarnorena.github.io/aus.json\",\n",
        "    \"mng\": \"https://emgabrielly.github.io/mng.json\",\n",
        "    \"grc\": \"https://dalcol99.github.io/grc.json\",\n",
        "    \"arg\": \"https://kndhvh.github.io/arg.json\",\n",
        "    \"irl\": \"https://victorswory.github.io/irl.json\",\n",
        "    \"npl\": \"https://rodrigofer89.github.io/npl.json\",\n",
        "    \"bel\": \"https://rafael-pereira-silva.github.io/bel.json\",\n",
        "}\n",
        "\n",
        "def get_data_passaport(name_data):\n",
        "  data = get(apis_datas[name_data])\n",
        "  passaport_list = []\n",
        "  for k, v in data.json().items():\n",
        "    for passaport in v:\n",
        "      passaport_list.append(passaport[k])\n",
        "  return passaport_list\n",
        "\n",
        "def get_data_interpol():\n",
        "  names_interpol = get(\"https://cspinheiro.github.io/interpol.json\").json()[\"interpol\"]\n",
        "  list_names = [name.get('interpol') for name in names_interpol]\n",
        "  return list_names\n",
        "\n",
        "def main():\n",
        "    html_temp = \"\"\" \n",
        "    <div style =\"background-color:black;padding:13px\"> \n",
        "    <h1 style =\"color:white;text-align:center;\">Embaixada IND</h1> \n",
        "    </div> \n",
        "    \"\"\"\n",
        "    st.markdown(html_temp, unsafe_allow_html = True) \n",
        "\n",
        "    number_passaport = st.text_input('Passaport')\n",
        "    name_passaport = st.text_input('Name')\n",
        "\n",
        "    def _validate_passaport(number_passaport):\n",
        "      apply_regex = re.split('([0-9]+)', number_passaport)\n",
        "      passart_numbers = get_data_passaport(apply_regex[0].lower())\n",
        "      if int(apply_regex[1]) in passart_numbers:\n",
        "        return True\n",
        "      return False\n",
        "\n",
        "    def _validate_name(name_passaport):\n",
        "      names_interpol = get_data_interpol()\n",
        "      list_fuzzy = process.extract(name_passaport, names_interpol)\n",
        "      result = []\n",
        "      for sublist in list_fuzzy: \n",
        "          if sublist[1] > 90:\n",
        "            result.append(sublist)\n",
        "      if len(result) == 0:\n",
        "          return True\n",
        "      return False\n",
        "\n",
        "    def validate_data(number_passaport, name_passaport):\n",
        "      if st.button(\"Consult\"):\n",
        "        is_valid_passarport = _validate_passaport(number_passaport)\n",
        "        is_valid_name = _validate_name(name_passaport)\n",
        "        if is_valid_passarport and is_valid_name:\n",
        "          st.success('Passport without problems')\n",
        "        else:\n",
        "          st.warning('Passport with problems')\n",
        "\n",
        "    validate_data(number_passaport, name_passaport)\n",
        "\n",
        "if __name__=='__main__': \n",
        "    main()\n"
      ],
      "metadata": {
        "colab": {
          "base_uri": "https://localhost:8080/"
        },
        "id": "j2k6KIR-OWME",
        "outputId": "7ea7138d-661c-4bbb-f524-41233f805dea"
      },
      "execution_count": 23,
      "outputs": [
        {
          "output_type": "stream",
          "name": "stdout",
          "text": [
            "Overwriting app.py\n"
          ]
        }
      ]
    },
    {
      "cell_type": "code",
      "source": [
        "!streamlit run app.py & npx localtunnel --port 8501"
      ],
      "metadata": {
        "id": "6NmE2cj_OaDj",
        "colab": {
          "base_uri": "https://localhost:8080/"
        },
        "outputId": "b1dba2be-0141-460d-ab55-8d81f449ae5c"
      },
      "execution_count": 24,
      "outputs": [
        {
          "output_type": "stream",
          "name": "stdout",
          "text": [
            "2022-05-04 18:11:57.686 INFO    numexpr.utils: NumExpr defaulting to 2 threads.\n",
            "\u001b[K\u001b[?25hnpx: installed 22 in 3.97s\n",
            "your url is: https://quick-states-shine-35-230-168-173.loca.lt\n",
            "\u001b[0m\n",
            "\u001b[34m\u001b[1m  You can now view your Streamlit app in your browser.\u001b[0m\n",
            "\u001b[0m\n",
            "\u001b[34m  Network URL: \u001b[0m\u001b[1mhttp://172.28.0.2:8502\u001b[0m\n",
            "\u001b[34m  External URL: \u001b[0m\u001b[1mhttp://35.230.168.173:8502\u001b[0m\n",
            "\u001b[0m\n",
            "\u001b[34m  Stopping...\u001b[0m\n",
            "^C\n"
          ]
        }
      ]
    }
  ]
}